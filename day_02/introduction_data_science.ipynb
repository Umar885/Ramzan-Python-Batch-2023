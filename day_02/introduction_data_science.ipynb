{
 "cells": [
  {
   "cell_type": "markdown",
   "metadata": {},
   "source": [
    "# What is Data Science?\n",
    "Data driven dascion making"
   ]
  },
  {
   "cell_type": "markdown",
   "metadata": {},
   "source": [
    "1. Ask (Wh? Questions)\n",
    "2. Prepare\n",
    "3. Prcess\n",
    "4. Analyze\n",
    "5. Share\n",
    "6. Act"
   ]
  },
  {
   "cell_type": "markdown",
   "metadata": {},
   "source": [
    "# Assignment\n",
    "Difference between Data Scientest and Data Analyst"
   ]
  },
  {
   "cell_type": "markdown",
   "metadata": {},
   "source": [
    "# 1. ASK\n",
    "Wh?\n",
    "1. What?\n",
    "2. Whay?\n",
    "3. How?\n",
    "4. When?\n",
    "5. Where?"
   ]
  },
  {
   "cell_type": "markdown",
   "metadata": {},
   "source": [
    "# 2. PREPARE\n",
    "Data\n",
    "  1. Understand the data\n",
    "  2. Feel the data\n",
    "  3. Organize the data"
   ]
  },
  {
   "cell_type": "markdown",
   "metadata": {},
   "source": [
    "# Data Types\n",
    "1. Structured Data\n",
    "2. Unstructured Data"
   ]
  },
  {
   "cell_type": "markdown",
   "metadata": {},
   "source": [
    "# 1. Structured Data\n",
    " The Data can be available in Table Form\n",
    " \n",
    "Example: Microsoft Excel sheet"
   ]
  },
  {
   "cell_type": "markdown",
   "metadata": {},
   "source": [
    "# 2. Unstructured Data\n",
    " The Data can not be available in Table Form\n",
    " \n",
    "Example: Picture, videos, Audio, Podcast"
   ]
  },
  {
   "cell_type": "markdown",
   "metadata": {},
   "source": [
    "# Data\n",
    "1. Primary Data\n",
    "2. Secondary Data"
   ]
  },
  {
   "cell_type": "markdown",
   "metadata": {},
   "source": [
    "# Data\n",
    "1. Qualitative Data(Catagorical Data)\n",
    "2. Quantitative Data(Numerical Data)"
   ]
  },
  {
   "cell_type": "markdown",
   "metadata": {},
   "source": [
    "# 1. Catagorical Data\n",
    "- Nominal Data\n",
    "- Ordinal Data"
   ]
  },
  {
   "cell_type": "markdown",
   "metadata": {},
   "source": [
    "# 2. Numerical Data\n",
    "- Discreet Data\n",
    "- Continous Data"
   ]
  }
 ],
 "metadata": {
  "language_info": {
   "name": "python"
  }
 },
 "nbformat": 4,
 "nbformat_minor": 2
}
